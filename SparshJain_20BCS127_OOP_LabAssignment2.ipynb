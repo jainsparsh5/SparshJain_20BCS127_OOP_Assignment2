{
  "nbformat": 4,
  "nbformat_minor": 0,
  "metadata": {
    "colab": {
      "name": "SparshJain_20BCS127_OOP_LabAssignment2.ipynb",
      "provenance": [],
      "authorship_tag": "ABX9TyOKkQqTiWix8FPumwPdcBmH",
      "include_colab_link": true
    },
    "kernelspec": {
      "name": "python3",
      "display_name": "Python 3"
    },
    "language_info": {
      "name": "python"
    }
  },
  "cells": [
    {
      "cell_type": "markdown",
      "metadata": {
        "id": "view-in-github",
        "colab_type": "text"
      },
      "source": [
        "<a href=\"https://colab.research.google.com/github/jainsparsh5/SparshJain_20BCS127_OOP_Assignment2/blob/main/SparshJain_20BCS127_OOP_LabAssignment2.ipynb\" target=\"_parent\"><img src=\"https://colab.research.google.com/assets/colab-badge.svg\" alt=\"Open In Colab\"/></a>"
      ]
    },
    {
      "cell_type": "markdown",
      "metadata": {
        "id": "mIo2rTnH4bJq"
      },
      "source": [
        "**Problem 1**"
      ]
    },
    {
      "cell_type": "code",
      "metadata": {
        "colab": {
          "base_uri": "https://localhost:8080/"
        },
        "id": "0aI5nL0X0InX",
        "outputId": "e8847608-10fd-4324-9a41-6e1588d87116"
      },
      "source": [
        "class Circle :\n",
        "    def __init__(self, r):\n",
        "        self.radius = r\n",
        "\n",
        "    def area(self):\n",
        "        return self.radius**2*3.14\n",
        "    \n",
        "    def perimeter(self):\n",
        "        return 2*self.radius*3.14\n",
        "n = int(input())\n",
        "Circle(n)\n",
        "print(Circle(n).area())\n",
        "print(Circle(n).perimeter())"
      ],
      "execution_count": null,
      "outputs": [
        {
          "output_type": "stream",
          "name": "stdout",
          "text": [
            "8\n",
            "200.96\n",
            "50.24\n"
          ]
        }
      ]
    },
    {
      "cell_type": "markdown",
      "metadata": {
        "id": "Sz5Gko314gXu"
      },
      "source": [
        "**Problem** **2**"
      ]
    },
    {
      "cell_type": "code",
      "metadata": {
        "id": "3UtnCV3q4jp-",
        "colab": {
          "base_uri": "https://localhost:8080/"
        },
        "outputId": "8521d6ff-5f67-4126-db6a-3a0a3c83ad46"
      },
      "source": [
        "class DOF:\n",
        "  def __init__(self, name, id, brnch, salary):\n",
        "    self.name = name\n",
        "    self.id = id\n",
        "    self.branch = branch\n",
        "    self.salary = salary\n",
        "  def details(self):\n",
        "   print(f\"\"\"     Name: {self.name}\n",
        "          Emp ID: {self.id}\n",
        "          Branch: {self.branch}\n",
        "          Salary: {self.salary}\"\"\")\n",
        "print(\"Enter data of 5 Faculties : \")\n",
        "\n",
        "array = []\n",
        "for i in range(0,5):\n",
        "  name = input(\"Name: \")\n",
        "  id = int(input(\"ID: \"))\n",
        "  branch = input(\"Branch: \")\n",
        "  salary = int(input(\"Salary: \"))\n",
        "  print('\\n')\n",
        "  t = DOF(name, id, branch, salary)\n",
        "  array.append(t)\n",
        "\n",
        "for i in array:\n",
        "  i.details()"
      ],
      "execution_count": null,
      "outputs": [
        {
          "output_type": "stream",
          "name": "stdout",
          "text": [
            "Enter data of 5 Faculties : \n",
            "Name: Sparsh\n",
            "ID: 12\n",
            "Branch: cse\n",
            "Salary: 20000\n",
            "\n",
            "\n",
            "Name: sparsh\n",
            "ID: 23\n",
            "Branch: vse\n",
            "Salary: 40000\n",
            "\n",
            "\n",
            "Name: kapil\n",
            "ID: 98\n",
            "Branch: dsai\n",
            "Salary: 23444\n",
            "\n",
            "\n",
            "Name: monil\n",
            "ID: 45\n",
            "Branch: ece\n",
            "Salary: 45000\n",
            "\n",
            "\n",
            "Name: rahul\n",
            "ID: 34\n",
            "Branch: CSE\n",
            "Salary: 60000\n",
            "\n",
            "\n",
            "     Name: Sparsh\n",
            "          Emp ID: 12\n",
            "          Branch: cse\n",
            "          Salary: 20000\n",
            "     Name: sparsh\n",
            "          Emp ID: 23\n",
            "          Branch: vse\n",
            "          Salary: 40000\n",
            "     Name: kapil\n",
            "          Emp ID: 98\n",
            "          Branch: dsai\n",
            "          Salary: 23444\n",
            "     Name: monil\n",
            "          Emp ID: 45\n",
            "          Branch: ece\n",
            "          Salary: 45000\n",
            "     Name: rahul\n",
            "          Emp ID: 34\n",
            "          Branch: CSE\n",
            "          Salary: 60000\n"
          ]
        }
      ]
    },
    {
      "cell_type": "markdown",
      "metadata": {
        "id": "rJ_K0Iss1Yy7"
      },
      "source": [
        "**Problem 3**"
      ]
    },
    {
      "cell_type": "code",
      "metadata": {
        "colab": {
          "base_uri": "https://localhost:8080/"
        },
        "id": "F5OaQwcH1a2L",
        "outputId": "c49fb56a-c6e3-438c-ed31-b880427d7485"
      },
      "source": [
        "class Account:\n",
        "  def details(self, acno, acho, amount):\n",
        "    self.acountno = acno\n",
        "    self.acountholdername = acho\n",
        "    self.amount = amount\n",
        "  def Deposit(self, acno):\n",
        "    if self.acountno == acno:\n",
        "      print(\"\"\"Login sucessfull\n",
        "      Enter amount to deposit: \"\"\")\n",
        "      amt = int(input())\n",
        "      print(f\"{amt} deposited sucessfully.\")\n",
        "    else:\n",
        "      print(\"You entered wrong details.\")\n",
        "  def Withdraw(self, acno, acho, amount):\n",
        "    if self.acountno == acno and self.acountholdername == acho:\n",
        "      print(\"\"\"Login Sucessfull\n",
        "      Enter Amount to withdraw: \"\"\")\n",
        "      amt = int(input())\n",
        "      if amt > self.amount:\n",
        "        print(\"Out of balance\")\n",
        "      else:\n",
        "        self.amount = self.amount - amt\n",
        "        print(f\"Withdrawn {amt} rupees\")\n",
        "    else:\n",
        "      print(\"You enterred wrong details.\")\n",
        "  def CheckBal(self, acno, acho ):\n",
        "    if self.acountno == acno and self.acountholdername == acho:\n",
        "      print(f\"Login sucessful, your account balance is {self.amount}\")  \n",
        "    else:\n",
        "      print(\"You entered wrong details.\")\n",
        "  def Displayac(self, anco):\n",
        "      print(f\"\"\" Your account details are:\n",
        "        Account Number: {self.acountno}\n",
        "        Account Holder name: {self.acountholdername}\n",
        "        Amount = {self.amount}\"\"\")\n",
        "\n",
        "P1 = Account()\n",
        "P1.details(111, \"A\", 774)\n",
        "P2 = Account()\n",
        "P2.details(112, \"B\", 1024)\n",
        "P3 = Account()\n",
        "P3.details(113, \"C\", 10000)\n",
        "P4 = Account()\n",
        "P4.details(114, \"D\", 20)\n",
        "P1.Deposit(111)\n",
        "P2.Withdraw(112, \"E\", 500)\n",
        "P2.Displayac(112)\n",
        "P3.CheckBal(113, \"C\")\n",
        "P4.Displayac(114)"
      ],
      "execution_count": 3,
      "outputs": [
        {
          "output_type": "stream",
          "name": "stdout",
          "text": [
            "Login sucessfull\n",
            "      Enter amount to deposit: \n",
            "100000\n",
            "100000 deposited sucessfully.\n",
            "You enterred wrong details.\n",
            " Your account details are:\n",
            "        Account Number: 112\n",
            "        Account Holder name: B\n",
            "        Amount = 1024\n",
            "Login sucessful, your account balance is 10000\n",
            " Your account details are:\n",
            "        Account Number: 114\n",
            "        Account Holder name: D\n",
            "        Amount = 20\n"
          ]
        }
      ]
    },
    {
      "cell_type": "markdown",
      "metadata": {
        "id": "iLkWLnZQ2Gmq"
      },
      "source": [
        "**Problem 4**"
      ]
    },
    {
      "cell_type": "code",
      "metadata": {
        "colab": {
          "base_uri": "https://localhost:8080/"
        },
        "id": "C9sb4bYS2IXm",
        "outputId": "657f2423-19a7-4ce9-8791-12266cfc1879"
      },
      "source": [
        "class Student:\n",
        "  def details(self, name , usn, mark_eng, mark_maths , mark_science):\n",
        "    self.name = name\n",
        "    self.usn = usn\n",
        "    self.mark_eng = mark_eng\n",
        "    self.mark_maths = mark_maths\n",
        "    self.mark_science = mark_science\n",
        "    self.nlist = [\"ajay\", \"rama\"]\n",
        "    self.nlist.append(name)\n",
        "    self.Emarks = [87, 77]\n",
        "    self.Emarks.append(mark_eng)\n",
        "    self.Mmarks = [54, 53]\n",
        "    self.Mmarks.append(mark_maths)\n",
        "    self.Smarks = [66, 69]\n",
        "    self.Smarks.append(mark_science)\n",
        "  def display(self, name, nlist, usn, Emarks, Mmarks, Smarks):\n",
        "    for i in range(0,3):\n",
        "      if name == nlist[i]:\n",
        "        print(f\"Name = {nlist[i]},  USN = {usn} ,  Marks in English = {Emarks[i]} ,  Marks in Maths = {Mmarks[i]} ,  Marks in Science = {Smarks[i]}\")\n",
        "        \n",
        "      \n",
        "a1 = Student()\n",
        "a1.details(\"PANKAJ\", 122, 75, 53, 49)\n",
        "a1.display(\"PANKAJ\", a1.nlist, a1.usn, a1.Emarks, a1.Mmarks, a1.Smarks)"
      ],
      "execution_count": 4,
      "outputs": [
        {
          "output_type": "stream",
          "name": "stdout",
          "text": [
            "Name = PANKAJ,  USN = 122 ,  Marks in English = 75 ,  Marks in Maths = 53 ,  Marks in Science = 49\n"
          ]
        }
      ]
    },
    {
      "cell_type": "markdown",
      "metadata": {
        "id": "Nx4mysM52OZR"
      },
      "source": [
        "**Problem 5**"
      ]
    },
    {
      "cell_type": "code",
      "metadata": {
        "colab": {
          "base_uri": "https://localhost:8080/"
        },
        "id": "wADlPzuQ2Qjm",
        "outputId": "f8becc17-0094-4ce0-aa8d-38030176299a"
      },
      "source": [
        "class Patient:\n",
        "  def __init__(self):\n",
        "    self.name = input(\"Name: \")\n",
        "    self.admit_date = input(\"Admit Date(dd/mm/yy): \")\n",
        "    i = int(input(\"Enter no of symptoms: \"))\n",
        "    self.symptom = []\n",
        "    self.gnum = 0\n",
        "    self.onum = 0\n",
        "    for j in range(1,i+1):\n",
        "      temp = input(f\"symptom {j}: \")\n",
        "      self.symptom.append(temp)\n",
        "    self.oxy = int(input(\"oxygen level: \"))\n",
        "    self.dis_date = input(\"Discharge Date(dd/mm/yy): \")\n",
        "  def ward(self):\n",
        "    if self.oxy <90:\n",
        "      print(\"Shift patient to ICU and keep on Oxygen\")\n",
        "      self.onum = self.onum + 1\n",
        "    else:\n",
        "      print(\"Patient's health is normal shift him to General Ward\")\n",
        "      self.gnum = self.gnum + 1\n",
        "  def patient_num(self):\n",
        "    print(f\"Patient in General ward are : {self.gnum}.\")\n",
        "    print(f\"Total Patients admitted are: {self.onum+self.gnum}.\")\n",
        "  def display(self):\n",
        "    print(f\"Patient Name: {self.name}  Patient's date of admit: {self.admit_date}   Patient's symptoms: {self.symptom}    Patient's Oxygen Level: {self.oxy}   Patient's date of discharge: {self.dis_date}\")\n",
        "\n",
        "\n",
        "p1= Patient()\n",
        "p1.display()\n",
        "p1.ward()\n",
        "p1.patient_num()"
      ],
      "execution_count": 1,
      "outputs": [
        {
          "output_type": "stream",
          "name": "stdout",
          "text": [
            "Name: Sparsh Jain\n",
            "Admit Date(dd/mm/yy): 01092021\n",
            "Enter no of symptoms: 2\n",
            "symptom 1: Fever\n",
            "symptom 2: Cough\n",
            "oxygen level: 87\n",
            "Discharge Date(dd/mm/yy): 14092021\n",
            "Patient Name: Sparsh Jain  Patient's date of admit: 01092021   Patient's symptoms: ['Fever', 'Cough']    Patient's Oxygen Level: 87   Patient's date of discharge: 14092021\n",
            "Shift patient to ICU and keep on Oxygen\n",
            "Patient in General ward are : 0.\n",
            "Total Patients admitted are: 1.\n"
          ]
        }
      ]
    },
    {
      "cell_type": "markdown",
      "metadata": {
        "id": "Iyk1ABd8XDH5"
      },
      "source": [
        "Problem 6"
      ]
    },
    {
      "cell_type": "code",
      "metadata": {
        "colab": {
          "base_uri": "https://localhost:8080/"
        },
        "id": "ZqJpvDQwXEsH",
        "outputId": "18c26502-9a17-403a-fab7-0a753d9b0208"
      },
      "source": [
        "class Time:\n",
        "  def __init__(self):\n",
        "    self.hours = int(input(\"Enter hours: \"))\n",
        "    self.minutes = int(input(\"Minutes: \"))\n",
        "    self. seconds = int(input(\"Seconds:  \"))\n",
        "\n",
        "  def display_time(self):\n",
        "    if self.hours > 9:\n",
        "      print(\"{0}:\".format(self.hours), end='')\n",
        "    else:\n",
        "      print(\"0{0}:\".format(self.hours), end='')\n",
        "    if self.minutes > 9:\n",
        "      print(\"{0}:\".format(self.minutes), end='')\n",
        "    else:\n",
        "      print(\"0{0}:\".format(self.minutes), end='')\n",
        "    if self.seconds > 9:\n",
        "      print(\"{0}\".format(self.seconds), end='')\n",
        "    else:\n",
        "      print(\"0{0}\".format(self.seconds), end='')\n",
        "\n",
        "t = Time()\n",
        "t.display_time()"
      ],
      "execution_count": 2,
      "outputs": [
        {
          "output_type": "stream",
          "name": "stdout",
          "text": [
            "Enter hours: 12\n",
            "Minutes: 43\n",
            "Seconds:  22\n",
            "12:43:22"
          ]
        }
      ]
    },
    {
      "cell_type": "markdown",
      "metadata": {
        "id": "9zVlzkyhc5dX"
      },
      "source": [
        "Problem 7"
      ]
    },
    {
      "cell_type": "code",
      "metadata": {
        "colab": {
          "base_uri": "https://localhost:8080/"
        },
        "id": "GdizCofYc6vN",
        "outputId": "77ac7370-32c7-4b60-cf51-06e81d2b35b9"
      },
      "source": [
        "class student:\n",
        "\n",
        "  def __init__(self, name, age, roll):\n",
        "    self.name = name\n",
        "    self.age = age\n",
        "    self.roll = roll  \n",
        "\n",
        "student1 = student(\"A\", 24, 56)\n",
        "student2 = student(\"B\", 24, 74) \n",
        "#function\n",
        "def comp():\n",
        "  if student1.age == student2.age:\n",
        "    print(\"the ages of two students are equal\")\n",
        "  else:\n",
        "    print(\"the ages are not equal\")\n",
        " \n",
        "comp()"
      ],
      "execution_count": 6,
      "outputs": [
        {
          "output_type": "stream",
          "name": "stdout",
          "text": [
            "the ages of two students are equal\n"
          ]
        }
      ]
    },
    {
      "cell_type": "markdown",
      "metadata": {
        "id": "337IXxmwdRWt"
      },
      "source": [
        "Problem 8"
      ]
    },
    {
      "cell_type": "code",
      "metadata": {
        "colab": {
          "base_uri": "https://localhost:8080/"
        },
        "id": "PxqiyabLdSRB",
        "outputId": "d076144e-e865-4789-fe62-bc87839d898e"
      },
      "source": [
        "class Student:\n",
        "  institute = \"IIIT Dharwad\"\n",
        "  semester = 3\n",
        "  def __init__(self):\n",
        "    self.name = input(\"Name: \")\n",
        "    self.USN = int(input(\"USN: \"))\n",
        "\n",
        "  def display_instance(self):\n",
        "    print(f\"Name: {self.name}   USN: {self.USN} \")\n",
        "  \n",
        "  def display_class(self):\n",
        "    print(f\"Institute name: {self.institute}   Semester: {self.semester}\")\n",
        "\n",
        "def explanation():\n",
        "  print(f\"It has 2 class variables - Institute and Semester, 2 instance variables - name and USN, 1 class method - printClass and 1 instance method - printInstance. Instance methods use the instance variables, whereas class methods use the class variables.\")\n",
        "\n",
        "std1 = Student()\n",
        "std1.display_class()\n",
        "std1.display_instance()\n",
        "explanation()"
      ],
      "execution_count": 8,
      "outputs": [
        {
          "output_type": "stream",
          "name": "stdout",
          "text": [
            "Name: Sparsh\n",
            "USN: 2\n",
            "Institute name: IIIT Dharwad   Semester: 3\n",
            "Name: Sparsh   USN: 2 \n",
            "It has 2 class variables - Institute and Semester, 2 instance variables - name and USN, 1 class method - printClass and 1 instance method - printInstance. Instance methods use the instance variables, whereas class methods use the class variables.\n"
          ]
        }
      ]
    },
    {
      "cell_type": "markdown",
      "metadata": {
        "id": "hDX24lmvdj59"
      },
      "source": [
        "Problem 9"
      ]
    },
    {
      "cell_type": "code",
      "metadata": {
        "colab": {
          "base_uri": "https://localhost:8080/"
        },
        "id": "o3bI5YS6dt5p",
        "outputId": "e38a894c-2df5-4c6f-8751-912b42c35e17"
      },
      "source": [
        "class Student:\n",
        "\n",
        "  def __init__(self):\n",
        "    self.name = input(\"Enter name: \")\n",
        "    self.roll_no = input(\"Roll No.: \")\n",
        "    self.sem = (\"Semester: \")\n",
        "    self.lappi1 = self.laptop1(\"intel\", \"32 gb\", \"512 gb\")\n",
        "    self.lappi2 = self.laptop2(\"ryzen\", \"16 gb\", \"2 Tb\")\n",
        "\n",
        "  def display(self):\n",
        "    print(\"name of student is: \", self.name)\n",
        "    print(\"roll no. of student is: \", self.roll_no)\n",
        "    print(\"semester of student is: \", self.sem)\n",
        "\n",
        "  class laptop1:\n",
        "\n",
        "    def __init__(self, name, ram, hard_disc):\n",
        "      self.cpu = name\n",
        "      self.ram = ram\n",
        "      self.hard_disk = hard_disc\n",
        "\n",
        "    def display_inner1(self):\n",
        "      print(\"chip used in cpu is: \", self.cpu)\n",
        "      print(\"ram capacity is: \", self.ram)\n",
        "      print(\"hard_disk capacity is: \", self.hard_disk)\n",
        " \n",
        "  class laptop2: \n",
        "\n",
        "    def __init__(self, name, ram, hard_disc):\n",
        "      self.cpu = name\n",
        "      self.ram = ram\n",
        "      self.hard_disk = hard_disc\n",
        "    \n",
        "    def display_inner2(self):\n",
        "      print(f\"chip used in cpu is:  {self.cpu}\")\n",
        "      print(f\"ram capacity is: {self.ram}\")\n",
        "      print(f\"hard_disk capacity is:  {self.hard_disk}\")      \n",
        "\n",
        "student1 = Student()\n",
        "student1.display() \n",
        "\n",
        "print(\"\\n\")\n",
        "\n",
        "l1 = student1.lappi1\n",
        "l1.display_inner1()\n",
        "\n",
        "print(\"\\n\")\n",
        "\n",
        "l2 = student1.lappi2\n",
        "l2.display_inner2()"
      ],
      "execution_count": 12,
      "outputs": [
        {
          "output_type": "stream",
          "name": "stdout",
          "text": [
            "Enter name: Sparsh\n",
            "Roll No.: 20\n",
            "name of student is:  Sparsh\n",
            "roll no. of student is:  20\n",
            "semester of student is:  Semester: \n",
            "\n",
            "\n",
            "chip used in cpu is:  intel\n",
            "ram capacity is:  32 gb\n",
            "hard_disk capacity is:  512 gb\n",
            "\n",
            "\n",
            "chip used in cpu is:  ryzen\n",
            "ram capacity is: 16 gb\n",
            "hard_disk capacity is:  2 Tb\n"
          ]
        }
      ]
    }
  ]
}